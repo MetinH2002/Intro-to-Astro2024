{
 "cells": [
  {
   "cell_type": "markdown",
   "metadata": {},
   "source": [
    "# Pandas Tutorial\n",
    "\n",
    "**Tutorial by Ellianna Abrahams, 2021 updates by Isaac Malsky**\n",
    "\n",
    "In addition to being adorable, bamboo-loving bears, **pandas** is a Python library that makes it easy to store and work with large datasets. This notebook will teach you the basics of using pandas."
   ]
  },
  {
   "cell_type": "markdown",
   "metadata": {},
   "source": [
    "![](https://cache.desktopnexus.com/thumbseg/1321/1321509-bigthumbnail.jpg)"
   ]
  },
  {
   "cell_type": "markdown",
   "metadata": {},
   "source": [
    "Over the years many people have been building complex functions in python to allow for analyzing data. These functions can be built into libraries or modules, and there are several that are used across many disciplines. For last week's assignment you worked with numpy, a library containing complex mathematical functions. Today we'll be working with pandas in this tutorial, and matplotlib in the next tutorial. Let's import those libraries here and save them in variables so that we can easily interact with them later."
   ]
  },
  {
   "cell_type": "markdown",
   "metadata": {},
   "source": [
    "### Imports\n",
    "\n",
    "In future notebooks, the following cell will usually be at the top of any code. Generally organizing imports at the top of a notebook makes it easier to remember which libraries you've already imported and follows the guidelines of good coding practice."
   ]
  },
  {
   "cell_type": "code",
<<<<<<< Updated upstream
   "execution_count": null,
=======
   "execution_count": 2,
>>>>>>> Stashed changes
   "metadata": {},
   "outputs": [],
   "source": [
    "import numpy as np   # Support for arrays and array math\n",
    "import pandas as pd  # The Lesson for today\n",
    "import matplotlib.pyplot as plt"
   ]
  },
  {
   "cell_type": "markdown",
   "metadata": {},
   "source": [
    "## The Basics - Create Data\n",
    "\n",
    "Let's take a look at the 5 most popular baby names in the U.S. in 2018 by. Data was taken from www.ssa.gov."
   ]
  },
  {
   "cell_type": "code",
<<<<<<< Updated upstream
   "execution_count": null,
=======
   "execution_count": 3,
>>>>>>> Stashed changes
   "metadata": {},
   "outputs": [],
   "source": [
    "# We can write words into python code by surrounding a word or number with quotation marks.\n",
    "# This is called a string, and we have stored our five strings in a list.\n",
    "names = ['Liam', 'Emma', 'Noah', 'Olivia', 'Ava']\n",
    "\n",
    "# Whole numbers are called integers.\n",
    "birth_count = [19837, 18688, 18267, 17921, 14924]\n",
    "\n",
    "# Decimals or fractions are called floats.\n",
    "percentage_of_births = [0.0102, 0.0101, 0.0097, 0.0095, 0.0081]"
   ]
  },
  {
   "cell_type": "code",
<<<<<<< Updated upstream
   "execution_count": null,
=======
   "execution_count": 4,
>>>>>>> Stashed changes
   "metadata": {},
   "outputs": [],
   "source": [
    "print (type(names))"
   ]
  },
  {
   "cell_type": "markdown",
   "metadata": {},
   "source": [
    "Let's store this data in a pandas spreadsheet, called a `DataFrame`. \n",
    "We can't create a dataframe directly from our lists, so we're going to store them in a dictionary, or `dict`."
   ]
  },
  {
   "cell_type": "code",
<<<<<<< Updated upstream
   "execution_count": null,
=======
   "execution_count": 5,
>>>>>>> Stashed changes
   "metadata": {},
   "outputs": [],
   "source": [
    "data = {'names': names, 'count': birth_count, 'percentage': percentage_of_births}"
   ]
  },
  {
   "cell_type": "code",
<<<<<<< Updated upstream
   "execution_count": null,
=======
   "execution_count": 6,
>>>>>>> Stashed changes
   "metadata": {},
   "outputs": [],
   "source": [
    "print (type(data))\n",
    "print (data)"
   ]
  },
  {
   "cell_type": "markdown",
   "metadata": {},
   "source": [
    "Now we can make a dataframe! Notice how we access the `DataFrame` function in the pandas library by using the variable `pd` that we defined above."
   ]
  },
  {
   "cell_type": "code",
<<<<<<< Updated upstream
   "execution_count": null,
=======
   "execution_count": 7,
>>>>>>> Stashed changes
   "metadata": {},
   "outputs": [],
   "source": [
    "df = pd.DataFrame(data)"
   ]
  },
  {
   "cell_type": "code",
<<<<<<< Updated upstream
   "execution_count": null,
   "metadata": {},
   "outputs": [],
=======
   "execution_count": 8,
   "metadata": {},
   "outputs": [
    {
     "data": {
      "text/html": [
       "<div>\n",
       "<style scoped>\n",
       "    .dataframe tbody tr th:only-of-type {\n",
       "        vertical-align: middle;\n",
       "    }\n",
       "\n",
       "    .dataframe tbody tr th {\n",
       "        vertical-align: top;\n",
       "    }\n",
       "\n",
       "    .dataframe thead th {\n",
       "        text-align: right;\n",
       "    }\n",
       "</style>\n",
       "<table border=\"1\" class=\"dataframe\">\n",
       "  <thead>\n",
       "    <tr style=\"text-align: right;\">\n",
       "      <th></th>\n",
       "      <th>names</th>\n",
       "      <th>count</th>\n",
       "      <th>percentage</th>\n",
       "    </tr>\n",
       "  </thead>\n",
       "  <tbody>\n",
       "    <tr>\n",
       "      <th>0</th>\n",
       "      <td>Liam</td>\n",
       "      <td>19837</td>\n",
       "      <td>0.0102</td>\n",
       "    </tr>\n",
       "    <tr>\n",
       "      <th>1</th>\n",
       "      <td>Emma</td>\n",
       "      <td>18688</td>\n",
       "      <td>0.0101</td>\n",
       "    </tr>\n",
       "    <tr>\n",
       "      <th>2</th>\n",
       "      <td>Noah</td>\n",
       "      <td>18267</td>\n",
       "      <td>0.0097</td>\n",
       "    </tr>\n",
       "    <tr>\n",
       "      <th>3</th>\n",
       "      <td>Olivia</td>\n",
       "      <td>17921</td>\n",
       "      <td>0.0095</td>\n",
       "    </tr>\n",
       "    <tr>\n",
       "      <th>4</th>\n",
       "      <td>Ava</td>\n",
       "      <td>14924</td>\n",
       "      <td>0.0081</td>\n",
       "    </tr>\n",
       "  </tbody>\n",
       "</table>\n",
       "</div>"
      ],
      "text/plain": [
       "    names  count  percentage\n",
       "0    Liam  19837      0.0102\n",
       "1    Emma  18688      0.0101\n",
       "2    Noah  18267      0.0097\n",
       "3  Olivia  17921      0.0095\n",
       "4     Ava  14924      0.0081"
      ]
     },
     "execution_count": 8,
     "metadata": {},
     "output_type": "execute_result"
    }
   ],
>>>>>>> Stashed changes
   "source": [
    "# The command .head is returns the first n rows, where n is the value in the parentheses\n",
    "# You can always google commands to see how they are called and how to call them\n",
    "# For example: https://pandas.pydata.org/docs/reference/api/pandas.DataFrame.head.html\n",
    "\n",
    "df.head(5)"
   ]
  },
  {
   "cell_type": "markdown",
   "metadata": {},
   "source": [
    "We can save our dataframe to a csv file so that we can share it with our colleagues. If you want to save it somewhere specific on your computer, you can specify the path inside the string."
   ]
  },
  {
   "cell_type": "code",
<<<<<<< Updated upstream
   "execution_count": null,
=======
   "execution_count": 9,
>>>>>>> Stashed changes
   "metadata": {},
   "outputs": [],
   "source": [
    "df.to_csv('save_the_pandas.csv')"
   ]
  },
  {
   "cell_type": "code",
<<<<<<< Updated upstream
   "execution_count": null,
=======
   "execution_count": 10,
>>>>>>> Stashed changes
   "metadata": {},
   "outputs": [],
   "source": [
    "# What do you think the saved file will look like with this?\n",
    "# Take a guess before running it\n",
    "\n",
    "df.to_csv('dataframe.txt', sep='\\t')\n",
    "df.to_csv('dataframe.txt', sep='q')"
   ]
  },
  {
   "cell_type": "markdown",
   "metadata": {},
   "source": [
    "## Data manipulation\n",
    "One of the most helpful aspects of pandas is how it can be used to quickly perform operations on large data sets."
   ]
  },
  {
   "cell_type": "code",
<<<<<<< Updated upstream
   "execution_count": null,
   "metadata": {},
   "outputs": [],
=======
   "execution_count": 11,
   "metadata": {},
   "outputs": [
    {
     "data": {
      "text/html": [
       "<div>\n",
       "<style scoped>\n",
       "    .dataframe tbody tr th:only-of-type {\n",
       "        vertical-align: middle;\n",
       "    }\n",
       "\n",
       "    .dataframe tbody tr th {\n",
       "        vertical-align: top;\n",
       "    }\n",
       "\n",
       "    .dataframe thead th {\n",
       "        text-align: right;\n",
       "    }\n",
       "</style>\n",
       "<table border=\"1\" class=\"dataframe\">\n",
       "  <thead>\n",
       "    <tr style=\"text-align: right;\">\n",
       "      <th></th>\n",
       "      <th>x</th>\n",
       "      <th>y</th>\n",
       "    </tr>\n",
       "  </thead>\n",
       "  <tbody>\n",
       "    <tr>\n",
       "      <th>0</th>\n",
       "      <td>1.540818</td>\n",
       "      <td>-0.620448</td>\n",
       "    </tr>\n",
       "    <tr>\n",
       "      <th>1</th>\n",
       "      <td>0.071851</td>\n",
       "      <td>0.614649</td>\n",
       "    </tr>\n",
       "    <tr>\n",
       "      <th>2</th>\n",
       "      <td>0.716431</td>\n",
       "      <td>-0.155203</td>\n",
       "    </tr>\n",
       "    <tr>\n",
       "      <th>3</th>\n",
       "      <td>-0.275207</td>\n",
       "      <td>-0.638413</td>\n",
       "    </tr>\n",
       "    <tr>\n",
       "      <th>4</th>\n",
       "      <td>-1.177540</td>\n",
       "      <td>-0.811054</td>\n",
       "    </tr>\n",
       "    <tr>\n",
       "      <th>5</th>\n",
       "      <td>1.253178</td>\n",
       "      <td>2.121852</td>\n",
       "    </tr>\n",
       "    <tr>\n",
       "      <th>6</th>\n",
       "      <td>-1.632531</td>\n",
       "      <td>-0.241907</td>\n",
       "    </tr>\n",
       "    <tr>\n",
       "      <th>7</th>\n",
       "      <td>0.701337</td>\n",
       "      <td>0.840708</td>\n",
       "    </tr>\n",
       "    <tr>\n",
       "      <th>8</th>\n",
       "      <td>-0.856368</td>\n",
       "      <td>2.071136</td>\n",
       "    </tr>\n",
       "    <tr>\n",
       "      <th>9</th>\n",
       "      <td>-0.685534</td>\n",
       "      <td>-0.478922</td>\n",
       "    </tr>\n",
       "  </tbody>\n",
       "</table>\n",
       "</div>"
      ],
      "text/plain": [
       "          x         y\n",
       "0  1.540818 -0.620448\n",
       "1  0.071851  0.614649\n",
       "2  0.716431 -0.155203\n",
       "3 -0.275207 -0.638413\n",
       "4 -1.177540 -0.811054\n",
       "5  1.253178  2.121852\n",
       "6 -1.632531 -0.241907\n",
       "7  0.701337  0.840708\n",
       "8 -0.856368  2.071136\n",
       "9 -0.685534 -0.478922"
      ]
     },
     "execution_count": 11,
     "metadata": {},
     "output_type": "execute_result"
    }
   ],
>>>>>>> Stashed changes
   "source": [
    "# Given a simple dataframe of two columns of values, we can find the sum or\n",
    "# Perform other calculations\n",
    "\n",
    "column1 = np.random.normal(size=10)\n",
    "column2 = np.random.normal(size=10)\n",
    "test_data = {'x': column1, 'y': column2}\n",
    "dataframe = pd.DataFrame(test_data)\n",
    "dataframe.head(10)"
   ]
  },
  {
   "cell_type": "code",
<<<<<<< Updated upstream
   "execution_count": null,
   "metadata": {},
   "outputs": [],
=======
   "execution_count": 12,
   "metadata": {},
   "outputs": [
    {
     "data": {
      "text/html": [
       "<div>\n",
       "<style scoped>\n",
       "    .dataframe tbody tr th:only-of-type {\n",
       "        vertical-align: middle;\n",
       "    }\n",
       "\n",
       "    .dataframe tbody tr th {\n",
       "        vertical-align: top;\n",
       "    }\n",
       "\n",
       "    .dataframe thead th {\n",
       "        text-align: right;\n",
       "    }\n",
       "</style>\n",
       "<table border=\"1\" class=\"dataframe\">\n",
       "  <thead>\n",
       "    <tr style=\"text-align: right;\">\n",
       "      <th></th>\n",
       "      <th>x</th>\n",
       "      <th>y</th>\n",
       "      <th>sums</th>\n",
       "      <th>product</th>\n",
       "    </tr>\n",
       "  </thead>\n",
       "  <tbody>\n",
       "    <tr>\n",
       "      <th>0</th>\n",
       "      <td>1.540818</td>\n",
       "      <td>-0.620448</td>\n",
       "      <td>0.920370</td>\n",
       "      <td>-0.955997</td>\n",
       "    </tr>\n",
       "    <tr>\n",
       "      <th>1</th>\n",
       "      <td>0.071851</td>\n",
       "      <td>0.614649</td>\n",
       "      <td>0.686500</td>\n",
       "      <td>0.044163</td>\n",
       "    </tr>\n",
       "    <tr>\n",
       "      <th>2</th>\n",
       "      <td>0.716431</td>\n",
       "      <td>-0.155203</td>\n",
       "      <td>0.561228</td>\n",
       "      <td>-0.111192</td>\n",
       "    </tr>\n",
       "    <tr>\n",
       "      <th>3</th>\n",
       "      <td>-0.275207</td>\n",
       "      <td>-0.638413</td>\n",
       "      <td>-0.913620</td>\n",
       "      <td>0.175696</td>\n",
       "    </tr>\n",
       "    <tr>\n",
       "      <th>4</th>\n",
       "      <td>-1.177540</td>\n",
       "      <td>-0.811054</td>\n",
       "      <td>-1.988594</td>\n",
       "      <td>0.955048</td>\n",
       "    </tr>\n",
       "    <tr>\n",
       "      <th>5</th>\n",
       "      <td>1.253178</td>\n",
       "      <td>2.121852</td>\n",
       "      <td>3.375030</td>\n",
       "      <td>2.659058</td>\n",
       "    </tr>\n",
       "    <tr>\n",
       "      <th>6</th>\n",
       "      <td>-1.632531</td>\n",
       "      <td>-0.241907</td>\n",
       "      <td>-1.874437</td>\n",
       "      <td>0.394920</td>\n",
       "    </tr>\n",
       "    <tr>\n",
       "      <th>7</th>\n",
       "      <td>0.701337</td>\n",
       "      <td>0.840708</td>\n",
       "      <td>1.542046</td>\n",
       "      <td>0.589620</td>\n",
       "    </tr>\n",
       "    <tr>\n",
       "      <th>8</th>\n",
       "      <td>-0.856368</td>\n",
       "      <td>2.071136</td>\n",
       "      <td>1.214768</td>\n",
       "      <td>-1.773655</td>\n",
       "    </tr>\n",
       "    <tr>\n",
       "      <th>9</th>\n",
       "      <td>-0.685534</td>\n",
       "      <td>-0.478922</td>\n",
       "      <td>-1.164456</td>\n",
       "      <td>0.328317</td>\n",
       "    </tr>\n",
       "  </tbody>\n",
       "</table>\n",
       "</div>"
      ],
      "text/plain": [
       "          x         y      sums   product\n",
       "0  1.540818 -0.620448  0.920370 -0.955997\n",
       "1  0.071851  0.614649  0.686500  0.044163\n",
       "2  0.716431 -0.155203  0.561228 -0.111192\n",
       "3 -0.275207 -0.638413 -0.913620  0.175696\n",
       "4 -1.177540 -0.811054 -1.988594  0.955048\n",
       "5  1.253178  2.121852  3.375030  2.659058\n",
       "6 -1.632531 -0.241907 -1.874437  0.394920\n",
       "7  0.701337  0.840708  1.542046  0.589620\n",
       "8 -0.856368  2.071136  1.214768 -1.773655\n",
       "9 -0.685534 -0.478922 -1.164456  0.328317"
      ]
     },
     "execution_count": 12,
     "metadata": {},
     "output_type": "execute_result"
    }
   ],
>>>>>>> Stashed changes
   "source": [
    "dataframe['sums'] = dataframe['x'] + dataframe['y']\n",
    "dataframe['product'] = dataframe['x'] * dataframe['y']\n",
    "dataframe.head(10)"
   ]
  },
  {
   "cell_type": "markdown",
   "metadata": {},
   "source": [
    "## The Basics - Get Data"
   ]
  },
  {
   "cell_type": "markdown",
   "metadata": {},
   "source": [
    "Let's say that your research group already has collected data that they've saved in a csv file. You can open csv files from pandas too using the pandas `read_csv()` function."
   ]
  },
  {
   "cell_type": "code",
<<<<<<< Updated upstream
   "execution_count": null,
=======
   "execution_count": 13,
>>>>>>> Stashed changes
   "metadata": {},
   "outputs": [],
   "source": [
    "# This csv file was created by Hadley Wickham\n",
    "# and is available at https://github.com/hadley/data-baby-names\n",
    "names_df = pd.read_csv('baby-names.csv')"
   ]
  },
  {
   "cell_type": "markdown",
   "metadata": {},
   "source": [
    "There are a few ways you can explore what is in your csv file. For example, you can see what columns are included, you can look at the first few lines, or you can see how many rows, or items, there are in the dataframe."
   ]
  },
  {
   "cell_type": "code",
<<<<<<< Updated upstream
   "execution_count": null,
   "metadata": {},
   "outputs": [],
=======
   "execution_count": 14,
   "metadata": {},
   "outputs": [
    {
     "data": {
      "text/plain": [
       "Index(['year', 'name', 'percent', 'gender'], dtype='object')"
      ]
     },
     "execution_count": 14,
     "metadata": {},
     "output_type": "execute_result"
    }
   ],
>>>>>>> Stashed changes
   "source": [
    "names_df.columns\n",
    "\n",
    "# Note that the data for this csv file is taken from the US Social Security website. \n",
    "# The SSO has historically assigned a binary gender at birth and is therefore biased in its collection.\n",
    "# It is always important to keep in mind bias that might be included in data collection!"
   ]
  },
  {
   "cell_type": "code",
<<<<<<< Updated upstream
   "execution_count": null,
   "metadata": {},
   "outputs": [],
=======
   "execution_count": 15,
   "metadata": {},
   "outputs": [
    {
     "data": {
      "text/html": [
       "<div>\n",
       "<style scoped>\n",
       "    .dataframe tbody tr th:only-of-type {\n",
       "        vertical-align: middle;\n",
       "    }\n",
       "\n",
       "    .dataframe tbody tr th {\n",
       "        vertical-align: top;\n",
       "    }\n",
       "\n",
       "    .dataframe thead th {\n",
       "        text-align: right;\n",
       "    }\n",
       "</style>\n",
       "<table border=\"1\" class=\"dataframe\">\n",
       "  <thead>\n",
       "    <tr style=\"text-align: right;\">\n",
       "      <th></th>\n",
       "      <th>year</th>\n",
       "      <th>name</th>\n",
       "      <th>percent</th>\n",
       "      <th>gender</th>\n",
       "    </tr>\n",
       "  </thead>\n",
       "  <tbody>\n",
       "    <tr>\n",
       "      <th>0</th>\n",
       "      <td>1880</td>\n",
       "      <td>John</td>\n",
       "      <td>0.081541</td>\n",
       "      <td>boy</td>\n",
       "    </tr>\n",
       "    <tr>\n",
       "      <th>1</th>\n",
       "      <td>1880</td>\n",
       "      <td>William</td>\n",
       "      <td>0.080511</td>\n",
       "      <td>boy</td>\n",
       "    </tr>\n",
       "    <tr>\n",
       "      <th>2</th>\n",
       "      <td>1880</td>\n",
       "      <td>James</td>\n",
       "      <td>0.050057</td>\n",
       "      <td>boy</td>\n",
       "    </tr>\n",
       "    <tr>\n",
       "      <th>3</th>\n",
       "      <td>1880</td>\n",
       "      <td>Charles</td>\n",
       "      <td>0.045167</td>\n",
       "      <td>boy</td>\n",
       "    </tr>\n",
       "    <tr>\n",
       "      <th>4</th>\n",
       "      <td>1880</td>\n",
       "      <td>George</td>\n",
       "      <td>0.043292</td>\n",
       "      <td>boy</td>\n",
       "    </tr>\n",
       "    <tr>\n",
       "      <th>5</th>\n",
       "      <td>1880</td>\n",
       "      <td>Frank</td>\n",
       "      <td>0.027380</td>\n",
       "      <td>boy</td>\n",
       "    </tr>\n",
       "    <tr>\n",
       "      <th>6</th>\n",
       "      <td>1880</td>\n",
       "      <td>Joseph</td>\n",
       "      <td>0.022229</td>\n",
       "      <td>boy</td>\n",
       "    </tr>\n",
       "    <tr>\n",
       "      <th>7</th>\n",
       "      <td>1880</td>\n",
       "      <td>Thomas</td>\n",
       "      <td>0.021401</td>\n",
       "      <td>boy</td>\n",
       "    </tr>\n",
       "    <tr>\n",
       "      <th>8</th>\n",
       "      <td>1880</td>\n",
       "      <td>Henry</td>\n",
       "      <td>0.020641</td>\n",
       "      <td>boy</td>\n",
       "    </tr>\n",
       "    <tr>\n",
       "      <th>9</th>\n",
       "      <td>1880</td>\n",
       "      <td>Robert</td>\n",
       "      <td>0.020404</td>\n",
       "      <td>boy</td>\n",
       "    </tr>\n",
       "  </tbody>\n",
       "</table>\n",
       "</div>"
      ],
      "text/plain": [
       "   year     name   percent gender\n",
       "0  1880     John  0.081541    boy\n",
       "1  1880  William  0.080511    boy\n",
       "2  1880    James  0.050057    boy\n",
       "3  1880  Charles  0.045167    boy\n",
       "4  1880   George  0.043292    boy\n",
       "5  1880    Frank  0.027380    boy\n",
       "6  1880   Joseph  0.022229    boy\n",
       "7  1880   Thomas  0.021401    boy\n",
       "8  1880    Henry  0.020641    boy\n",
       "9  1880   Robert  0.020404    boy"
      ]
     },
     "execution_count": 15,
     "metadata": {},
     "output_type": "execute_result"
    }
   ],
>>>>>>> Stashed changes
   "source": [
    "names_df.head(10)\n",
    "\n",
    "# Try chaning the .head call. Can you create a different dataframe as a subset of a\n",
    "# portion of just the original one?"
   ]
  },
  {
   "cell_type": "code",
<<<<<<< Updated upstream
   "execution_count": null,
   "metadata": {},
   "outputs": [],
=======
   "execution_count": 16,
   "metadata": {},
   "outputs": [
    {
     "data": {
      "text/plain": [
       "258000"
      ]
     },
     "execution_count": 16,
     "metadata": {},
     "output_type": "execute_result"
    }
   ],
>>>>>>> Stashed changes
   "source": [
    "len(names_df)"
   ]
  },
  {
   "cell_type": "markdown",
   "metadata": {},
   "source": [
    "From exploring the data, we can see that this dataset includes information about 258,000 popular names according to the population percentage given the name each year sorted by gender. \n",
    "\n",
    "## Analyzing Data\n",
    "We can ask questions about this dataset and look for answers using pandas. Let's see how many years are included in the dataset."
   ]
  },
  {
   "cell_type": "code",
<<<<<<< Updated upstream
   "execution_count": null,
=======
   "execution_count": 17,
>>>>>>> Stashed changes
   "metadata": {},
   "outputs": [],
   "source": [
    "# First we isolate the column including information about each year\n",
    "years = names_df['year']\n",
    "\n",
    "# Selecting a series like this returns a pandas object called a series\n",
    "print (type(years))"
   ]
  },
  {
   "cell_type": "code",
<<<<<<< Updated upstream
   "execution_count": null,
=======
   "execution_count": 18,
>>>>>>> Stashed changes
   "metadata": {},
   "outputs": [],
   "source": [
    "# Now we find the minimum value in that column, using the .min() command\n",
    "years.min()\n",
    "print (years.min())\n",
    "\n",
    "# You can also cast the pandas series object as a list\n",
    "print (min(list(years)))"
   ]
  },
  {
   "cell_type": "markdown",
   "metadata": {},
   "source": [
    "Now we can look at different ways of manipulating this dataset!"
   ]
  },
  {
   "cell_type": "code",
<<<<<<< Updated upstream
   "execution_count": null,
   "metadata": {},
   "outputs": [],
=======
   "execution_count": 19,
   "metadata": {},
   "outputs": [
    {
     "data": {
      "text/plain": [
       "0.0008944713333333334"
      ]
     },
     "execution_count": 19,
     "metadata": {},
     "output_type": "execute_result"
    }
   ],
>>>>>>> Stashed changes
   "source": [
    "names_df['percent'].mean()"
   ]
  },
  {
   "cell_type": "code",
<<<<<<< Updated upstream
   "execution_count": null,
   "metadata": {},
   "outputs": [],
=======
   "execution_count": 20,
   "metadata": {},
   "outputs": [
    {
     "data": {
      "text/plain": [
       "0.000164"
      ]
     },
     "execution_count": 20,
     "metadata": {},
     "output_type": "execute_result"
    }
   ],
>>>>>>> Stashed changes
   "source": [
    "names_df['percent'].median()"
   ]
  },
  {
   "cell_type": "code",
<<<<<<< Updated upstream
   "execution_count": null,
   "metadata": {},
   "outputs": [],
=======
   "execution_count": 21,
   "metadata": {},
   "outputs": [
    {
     "data": {
      "text/plain": [
       "0    0.000051\n",
       "Name: percent, dtype: float64"
      ]
     },
     "execution_count": 21,
     "metadata": {},
     "output_type": "execute_result"
    }
   ],
>>>>>>> Stashed changes
   "source": [
    "names_df['percent'].mode()"
   ]
  },
  {
   "cell_type": "markdown",
   "metadata": {},
   "source": [
    "We'll dive more into the difference between mean, median and mode later in the summer. For the final part of this tutorial, we'll look at dividing the data into subsets. Maybe your study is only interested in exploring the most popular names given to baby girls in the 1960s."
   ]
  },
  {
   "cell_type": "code",
<<<<<<< Updated upstream
   "execution_count": null,
=======
   "execution_count": 22,
>>>>>>> Stashed changes
   "metadata": {},
   "outputs": [],
   "source": [
    "subset = names_df.loc[(years >= 1960) & (years < 1970) & (names_df['gender'] == 'girl')]"
   ]
  },
  {
   "cell_type": "markdown",
   "metadata": {},
   "source": [
    "How do you view the first 12 lines of this subset?"
   ]
  },
  {
   "cell_type": "code",
<<<<<<< Updated upstream
   "execution_count": null,
   "metadata": {},
   "outputs": [],
   "source": []
=======
   "execution_count": 23,
   "metadata": {},
   "outputs": [
    {
     "data": {
      "text/html": [
       "<div>\n",
       "<style scoped>\n",
       "    .dataframe tbody tr th:only-of-type {\n",
       "        vertical-align: middle;\n",
       "    }\n",
       "\n",
       "    .dataframe tbody tr th {\n",
       "        vertical-align: top;\n",
       "    }\n",
       "\n",
       "    .dataframe thead th {\n",
       "        text-align: right;\n",
       "    }\n",
       "</style>\n",
       "<table border=\"1\" class=\"dataframe\">\n",
       "  <thead>\n",
       "    <tr style=\"text-align: right;\">\n",
       "      <th></th>\n",
       "      <th>year</th>\n",
       "      <th>name</th>\n",
       "      <th>percent</th>\n",
       "      <th>gender</th>\n",
       "    </tr>\n",
       "  </thead>\n",
       "  <tbody>\n",
       "    <tr>\n",
       "      <th>209000</th>\n",
       "      <td>1960</td>\n",
       "      <td>Mary</td>\n",
       "      <td>0.024750</td>\n",
       "      <td>girl</td>\n",
       "    </tr>\n",
       "    <tr>\n",
       "      <th>209001</th>\n",
       "      <td>1960</td>\n",
       "      <td>Susan</td>\n",
       "      <td>0.018846</td>\n",
       "      <td>girl</td>\n",
       "    </tr>\n",
       "    <tr>\n",
       "      <th>209002</th>\n",
       "      <td>1960</td>\n",
       "      <td>Linda</td>\n",
       "      <td>0.017942</td>\n",
       "      <td>girl</td>\n",
       "    </tr>\n",
       "    <tr>\n",
       "      <th>209003</th>\n",
       "      <td>1960</td>\n",
       "      <td>Karen</td>\n",
       "      <td>0.017494</td>\n",
       "      <td>girl</td>\n",
       "    </tr>\n",
       "    <tr>\n",
       "      <th>209004</th>\n",
       "      <td>1960</td>\n",
       "      <td>Donna</td>\n",
       "      <td>0.016410</td>\n",
       "      <td>girl</td>\n",
       "    </tr>\n",
       "    <tr>\n",
       "      <th>209005</th>\n",
       "      <td>1960</td>\n",
       "      <td>Lisa</td>\n",
       "      <td>0.016207</td>\n",
       "      <td>girl</td>\n",
       "    </tr>\n",
       "    <tr>\n",
       "      <th>209006</th>\n",
       "      <td>1960</td>\n",
       "      <td>Patricia</td>\n",
       "      <td>0.015435</td>\n",
       "      <td>girl</td>\n",
       "    </tr>\n",
       "    <tr>\n",
       "      <th>209007</th>\n",
       "      <td>1960</td>\n",
       "      <td>Debra</td>\n",
       "      <td>0.012855</td>\n",
       "      <td>girl</td>\n",
       "    </tr>\n",
       "    <tr>\n",
       "      <th>209008</th>\n",
       "      <td>1960</td>\n",
       "      <td>Cynthia</td>\n",
       "      <td>0.012847</td>\n",
       "      <td>girl</td>\n",
       "    </tr>\n",
       "    <tr>\n",
       "      <th>209009</th>\n",
       "      <td>1960</td>\n",
       "      <td>Deborah</td>\n",
       "      <td>0.012149</td>\n",
       "      <td>girl</td>\n",
       "    </tr>\n",
       "    <tr>\n",
       "      <th>209010</th>\n",
       "      <td>1960</td>\n",
       "      <td>Sandra</td>\n",
       "      <td>0.011815</td>\n",
       "      <td>girl</td>\n",
       "    </tr>\n",
       "    <tr>\n",
       "      <th>209011</th>\n",
       "      <td>1960</td>\n",
       "      <td>Barbara</td>\n",
       "      <td>0.011757</td>\n",
       "      <td>girl</td>\n",
       "    </tr>\n",
       "  </tbody>\n",
       "</table>\n",
       "</div>"
      ],
      "text/plain": [
       "        year      name   percent gender\n",
       "209000  1960      Mary  0.024750   girl\n",
       "209001  1960     Susan  0.018846   girl\n",
       "209002  1960     Linda  0.017942   girl\n",
       "209003  1960     Karen  0.017494   girl\n",
       "209004  1960     Donna  0.016410   girl\n",
       "209005  1960      Lisa  0.016207   girl\n",
       "209006  1960  Patricia  0.015435   girl\n",
       "209007  1960     Debra  0.012855   girl\n",
       "209008  1960   Cynthia  0.012847   girl\n",
       "209009  1960   Deborah  0.012149   girl\n",
       "209010  1960    Sandra  0.011815   girl\n",
       "209011  1960   Barbara  0.011757   girl"
      ]
     },
     "execution_count": 23,
     "metadata": {},
     "output_type": "execute_result"
    }
   ],
   "source": [
    "subset.head(12)"
   ]
>>>>>>> Stashed changes
  },
  {
   "cell_type": "markdown",
   "metadata": {},
   "source": [
    "Let's sort our subset by percentage popularity."
   ]
  },
  {
   "cell_type": "code",
<<<<<<< Updated upstream
   "execution_count": null,
   "metadata": {},
   "outputs": [],
=======
   "execution_count": 25,
   "metadata": {},
   "outputs": [
    {
     "data": {
      "text/html": [
       "<div>\n",
       "<style scoped>\n",
       "    .dataframe tbody tr th:only-of-type {\n",
       "        vertical-align: middle;\n",
       "    }\n",
       "\n",
       "    .dataframe tbody tr th {\n",
       "        vertical-align: top;\n",
       "    }\n",
       "\n",
       "    .dataframe thead th {\n",
       "        text-align: right;\n",
       "    }\n",
       "</style>\n",
       "<table border=\"1\" class=\"dataframe\">\n",
       "  <thead>\n",
       "    <tr style=\"text-align: right;\">\n",
       "      <th></th>\n",
       "      <th>year</th>\n",
       "      <th>name</th>\n",
       "      <th>percent</th>\n",
       "      <th>gender</th>\n",
       "    </tr>\n",
       "  </thead>\n",
       "  <tbody>\n",
       "    <tr>\n",
       "      <th>214000</th>\n",
       "      <td>1965</td>\n",
       "      <td>Lisa</td>\n",
       "      <td>0.032982</td>\n",
       "      <td>girl</td>\n",
       "    </tr>\n",
       "    <tr>\n",
       "      <th>215000</th>\n",
       "      <td>1966</td>\n",
       "      <td>Lisa</td>\n",
       "      <td>0.032416</td>\n",
       "      <td>girl</td>\n",
       "    </tr>\n",
       "    <tr>\n",
       "      <th>216000</th>\n",
       "      <td>1967</td>\n",
       "      <td>Lisa</td>\n",
       "      <td>0.030539</td>\n",
       "      <td>girl</td>\n",
       "    </tr>\n",
       "    <tr>\n",
       "      <th>217000</th>\n",
       "      <td>1968</td>\n",
       "      <td>Lisa</td>\n",
       "      <td>0.028974</td>\n",
       "      <td>girl</td>\n",
       "    </tr>\n",
       "    <tr>\n",
       "      <th>212000</th>\n",
       "      <td>1963</td>\n",
       "      <td>Lisa</td>\n",
       "      <td>0.028189</td>\n",
       "      <td>girl</td>\n",
       "    </tr>\n",
       "    <tr>\n",
       "      <th>...</th>\n",
       "      <td>...</td>\n",
       "      <td>...</td>\n",
       "      <td>...</td>\n",
       "      <td>...</td>\n",
       "    </tr>\n",
       "    <tr>\n",
       "      <th>209994</th>\n",
       "      <td>1960</td>\n",
       "      <td>Keely</td>\n",
       "      <td>0.000056</td>\n",
       "      <td>girl</td>\n",
       "    </tr>\n",
       "    <tr>\n",
       "      <th>209993</th>\n",
       "      <td>1960</td>\n",
       "      <td>Caron</td>\n",
       "      <td>0.000056</td>\n",
       "      <td>girl</td>\n",
       "    </tr>\n",
       "    <tr>\n",
       "      <th>209992</th>\n",
       "      <td>1960</td>\n",
       "      <td>Carlotta</td>\n",
       "      <td>0.000056</td>\n",
       "      <td>girl</td>\n",
       "    </tr>\n",
       "    <tr>\n",
       "      <th>209991</th>\n",
       "      <td>1960</td>\n",
       "      <td>Bev</td>\n",
       "      <td>0.000056</td>\n",
       "      <td>girl</td>\n",
       "    </tr>\n",
       "    <tr>\n",
       "      <th>209999</th>\n",
       "      <td>1960</td>\n",
       "      <td>Anastasia</td>\n",
       "      <td>0.000055</td>\n",
       "      <td>girl</td>\n",
       "    </tr>\n",
       "  </tbody>\n",
       "</table>\n",
       "<p>10000 rows × 4 columns</p>\n",
       "</div>"
      ],
      "text/plain": [
       "        year       name   percent gender\n",
       "214000  1965       Lisa  0.032982   girl\n",
       "215000  1966       Lisa  0.032416   girl\n",
       "216000  1967       Lisa  0.030539   girl\n",
       "217000  1968       Lisa  0.028974   girl\n",
       "212000  1963       Lisa  0.028189   girl\n",
       "...      ...        ...       ...    ...\n",
       "209994  1960      Keely  0.000056   girl\n",
       "209993  1960      Caron  0.000056   girl\n",
       "209992  1960   Carlotta  0.000056   girl\n",
       "209991  1960        Bev  0.000056   girl\n",
       "209999  1960  Anastasia  0.000055   girl\n",
       "\n",
       "[10000 rows x 4 columns]"
      ]
     },
     "execution_count": 25,
     "metadata": {},
     "output_type": "execute_result"
    }
   ],
>>>>>>> Stashed changes
   "source": [
    "subset.sort_values(by='percent', ascending=False)"
   ]
  },
  {
   "cell_type": "markdown",
   "metadata": {},
   "source": [
    "## Assignment"
   ]
  },
  {
   "cell_type": "markdown",
   "metadata": {},
   "source": [
    "Can you make a histogram of the percentage popularity of the name Lisa during the 1960s?"
   ]
  },
  {
   "cell_type": "code",
   "execution_count": null,
   "metadata": {},
   "outputs": [],
   "source": [
    "# HINT: It's very useful to break coding down into written steps and then complete each step one by one.\n",
    "\n",
    "# Here is a sample of the first step that I might write\n",
    "# Step 1: Create a subset of the name Lisa in the 1960s.\n",
    "# Step 2: ...\n",
    "# ..."
   ]
  },
  {
   "cell_type": "markdown",
   "metadata": {},
   "source": [
    "Can you make a histogram of the percentage popularity of the name Mary during the 1960s?"
   ]
  },
  {
   "cell_type": "code",
   "execution_count": 34,
   "metadata": {},
   "outputs": [
    {
     "data": {
      "text/plain": [
       "(array([1., 0., 1., 1., 0., 1., 1., 2., 1., 2.]),\n",
       " array([0.016207 , 0.0178845, 0.019562 , 0.0212395, 0.022917 , 0.0245945,\n",
       "        0.026272 , 0.0279495, 0.029627 , 0.0313045, 0.032982 ]),\n",
       " <BarContainer object of 10 artists>)"
      ]
     },
     "execution_count": 34,
     "metadata": {},
     "output_type": "execute_result"
    },
    {
     "data": {
      "image/png": "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",
      "text/plain": [
       "<Figure size 640x480 with 1 Axes>"
      ]
     },
     "metadata": {},
     "output_type": "display_data"
    }
   ],
   "source": [
    "yuzde=subset[subset['name']=='Lisa']['percent']\n",
    "import matplotlib.pyplot as plt \n",
    "\n",
    "plt.hist(yuzde)"
   ]
  },
  {
   "cell_type": "markdown",
   "metadata": {},
   "source": [
    "Now can you plot them on the same histogram?"
   ]
  },
  {
   "cell_type": "code",
   "execution_count": null,
   "metadata": {},
   "outputs": [],
   "source": []
  },
  {
   "cell_type": "markdown",
   "metadata": {},
   "source": [
    "Please save the csv file of the subset that you created. Scroll to the bottom of [this documentation](https://pandas.pydata.org/pandas-docs/stable/reference/api/pandas.DataFrame.to_csv.html) to find out how. Once you've completed Ryan's matplotlib tutorial, come back to this one and save a .png of your final histogram too!"
   ]
  },
  {
   "cell_type": "code",
   "execution_count": null,
   "metadata": {},
   "outputs": [],
   "source": []
  },
  {
   "cell_type": "markdown",
   "metadata": {},
   "source": [
    "## Challenge Assignment"
   ]
  },
  {
   "cell_type": "markdown",
   "metadata": {},
   "source": [
    "Some names remained popular throughout a decade and some names were only popular for a year or two. 183 of the most popular names in the 1980s were only popular for a year. What were the first five most popular one hit wonders of the 1980s?\n",
    "\n",
    "We did not go over all the commands that you need to answer this question. Never fear! The internet can be your trusty guide. Head over to https://stackoverflow.com/ and use the pandas documentation to answer this question. Bonus pandas points if you can answer the question in one line of code!"
   ]
  },
  {
   "cell_type": "code",
   "execution_count": null,
   "metadata": {},
   "outputs": [],
   "source": []
  },
  {
   "cell_type": "markdown",
   "metadata": {},
   "source": [
    "What is the distribution of the count of one hit wonder names over time during the 1980s? Please save your histogram as a .png file."
   ]
  },
  {
   "cell_type": "code",
   "execution_count": null,
   "metadata": {},
   "outputs": [],
   "source": []
  },
  {
   "cell_type": "markdown",
   "metadata": {},
   "source": [
    "Now merge this 1980s dataframe with the overall dataset. Can you figure out a way to only keep the names that are popular in and beyond the 1980s in this merge? Write a l"
   ]
  },
  {
   "cell_type": "code",
   "execution_count": null,
   "metadata": {},
   "outputs": [],
   "source": []
  }
 ],
 "metadata": {
  "kernelspec": {
   "display_name": "Python 3 (ipykernel)",
   "language": "python",
   "name": "python3"
  },
  "language_info": {
   "codemirror_mode": {
    "name": "ipython",
    "version": 3
   },
   "file_extension": ".py",
   "mimetype": "text/x-python",
   "name": "python",
   "nbconvert_exporter": "python",
   "pygments_lexer": "ipython3",
   "version": "3.11.7"
  }
 },
 "nbformat": 4,
 "nbformat_minor": 4
}
