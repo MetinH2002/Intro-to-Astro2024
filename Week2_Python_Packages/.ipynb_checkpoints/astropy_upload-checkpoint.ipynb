{
 "cells": [
  {
   "cell_type": "markdown",
   "id": "911b940e-2e1f-40d3-ad18-5ae24a0d6649",
   "metadata": {},
   "source": [
    "# Intro to Astropy"
   ]
  },
  {
   "cell_type": "markdown",
   "id": "d35c17a3-7936-4c78-94e9-c6998a06c717",
   "metadata": {},
   "source": [
    "## Importing astropy"
   ]
  },
  {
   "cell_type": "markdown",
   "id": "539b0c91-d26c-4fc9-9cce-65fa259c9964",
   "metadata": {},
   "source": [
    "You could import all of astropy, which is a huge, huge library, but it is not recommended! Ideally you import a subpackage or a class within the subpackage that is relevant to the operations of the script at hand, which is what we'll be doing in the rest of the notebook"
   ]
  },
  {
   "cell_type": "markdown",
   "id": "2110f015-13fd-4014-846b-e7df615143d1",
   "metadata": {},
   "source": [
    "## Quantities"
   ]
  },
  {
   "cell_type": "markdown",
   "id": "10b1db07-4f9b-48bc-aec0-ba6a2776cd3b",
   "metadata": {},
   "source": [
    "First go through the slides for an introduction, and then attempt the following problem:\n",
    "\n",
    "Calculate the gravitational force between a 3 solar mass star and its 10 Jupiter mass planet 2 au away. "
   ]
  },
  {
   "cell_type": "code",
   "execution_count": 39,
   "id": "f1ce3db0-36a0-4276-86ee-5f7d826a2837",
   "metadata": {
    "tags": []
   },
   "outputs": [],
   "source": [
    "# import the subpackages to save quantities as objects with units and have pre-defined constants\n",
    "import astropy.units as u\n",
    "import astropy.constants as c"
   ]
  },
  {
   "cell_type": "markdown",
   "id": "d9612000-8bb1-4a3e-98b5-9e09b857abde",
   "metadata": {},
   "source": [
    "### Examples with astropy.units"
   ]
  },
  {
   "cell_type": "code",
   "execution_count": 40,
   "id": "8f272f7b-e491-44a6-a9bd-9c4ff3eed9c4",
   "metadata": {},
   "outputs": [
    {
     "name": "stdout",
     "output_type": "stream",
     "text": [
      "0.471875\n",
      "m / s\n"
     ]
    }
   ],
   "source": [
    "# create a velocity \n",
    "q = 15.1 * u.meter / (32.0 * u.second)\n",
    "print(q.value)\n",
    "print(q.unit)  # m/s"
   ]
  },
  {
   "cell_type": "code",
   "execution_count": 41,
   "id": "f6e79fb6-f131-4c4e-b54b-899b53378425",
   "metadata": {},
   "outputs": [
    {
     "data": {
      "text/latex": [
       "$3.0856776 \\times 10^{13} \\; \\mathrm{km}$"
      ],
      "text/plain": [
       "<Quantity 3.08567758e+13 km>"
      ]
     },
     "execution_count": 41,
     "metadata": {},
     "output_type": "execute_result"
    }
   ],
   "source": [
    "# create convert units\n",
    "x = 1.0 * u.parsec\n",
    "x.to(u.km)  # to ile uzaklığı km cinsine çevirebiliyoruz"
   ]
  },
  {
   "cell_type": "markdown",
   "id": "9d3d609b-6428-4e8d-a4e8-29fe407ed140",
   "metadata": {},
   "source": [
    "### Examples with astropy.constants"
   ]
  },
  {
   "cell_type": "code",
   "execution_count": 42,
   "id": "43e15850-afaf-41f0-ac2a-31a71387c4a2",
   "metadata": {},
   "outputs": [
    {
     "name": "stdout",
     "output_type": "stream",
     "text": [
      "  Name   = Gravitational constant\n",
      "  Value  = 6.6743e-11\n",
      "  Uncertainty  = 1.5e-15\n",
      "  Unit  = m3 / (kg s2)\n",
      "  Reference = CODATA 2018\n"
     ]
    }
   ],
   "source": [
    "# what does a constant object entail?\n",
    "print(c.G)"
   ]
  },
  {
   "cell_type": "markdown",
   "id": "9ed2edc4-d6f7-4a97-8fbe-036e4dd3ccb0",
   "metadata": {},
   "source": [
    "### DIY"
   ]
  },
  {
   "cell_type": "markdown",
   "id": "943614c4",
   "metadata": {},
   "source": [
    "$$ F = G \\frac{m_1 m_2}{r^2} $$\n"
   ]
  },
  {
   "cell_type": "code",
   "execution_count": 58,
   "id": "56b57287-e42f-4ddf-a987-374eb64ac8f2",
   "metadata": {},
   "outputs": [
    {
     "name": "stdout",
     "output_type": "stream",
     "text": [
      "The gravitational force is 1.1256037390062935e+25 N\n"
     ]
    }
   ],
   "source": [
    "#masses with units of M_sun and M_jub\n",
    "from astropy.constants import G, M_sun, M_jup\n",
    "\n",
    "#distance with unit of au\n",
    "from astropy.units import au\n",
    "\n",
    "#Calculate gravitational force using masses distance and the gravitational constant G\n",
    "def gravitational_force(m1_sun, m2_jup, distance_au):\n",
    "    # Kütleleri ve mesafeyi Astropy birimlerine çevir\n",
    "    m1 = m1_sun * M_sun\n",
    "    m2 = m2_jup * M_jup\n",
    "    distance = distance_au * au\n",
    "    \n",
    "    # Yerçekimsel kuvveti hesapla\n",
    "    force = G * (m1 * m2) / distance**2\n",
    "    \n",
    "    \n",
    "    return force.to('N')  # Newton cinsinden sonucu döndür\n",
    "\n",
    "\n",
    "\n",
    "m1 = 1  # Güneş kütlesi cinsinden\n",
    "m2 = 1  # Jüpiter kütlesi cinsinden\n",
    "distance = 1  # Astronomik birim cinsinden\n",
    "\n",
    "\n",
    "\"\"\"\n",
    "Güneş kütlesi (M_sun): Yaklaşık 1.989 × 10^30 kg\n",
    "Jüpiter kütlesi (M_jup): Yaklaşık 1.898 × 10^27 kg\n",
    "\"\"\"\n",
    "\n",
    "force = gravitational_force(m1, m2, distance)\n",
    "print(f\"The gravitational force is {force}\")"
   ]
  },
  {
   "cell_type": "markdown",
   "id": "3c45fbf3-0508-4069-88b6-82a9c06ff984",
   "metadata": {},
   "source": [
    "## Input and Output"
   ]
  },
  {
   "cell_type": "markdown",
   "id": "7a08b006-080e-46f2-a5f2-be9fa4891d14",
   "metadata": {},
   "source": [
    "### Tables\n",
    "\n",
    "Look at the slide for information"
   ]
  },
  {
   "cell_type": "markdown",
   "id": "5d9e6ed4-0c1e-446b-ab1b-bea4bcee7d93",
   "metadata": {
    "tags": []
   },
   "source": [
    "### FITS"
   ]
  },
  {
   "cell_type": "code",
   "execution_count": 59,
   "id": "1cc61458-6374-48d2-8f99-d88f8ce7cc83",
   "metadata": {
    "tags": []
   },
   "outputs": [
    {
     "name": "stdout",
     "output_type": "stream",
     "text": [
      "Filename: C:\\Users\\Sabri\\anaconda3\\Lib\\site-packages\\astropy\\io\\fits\\tests\\data\\test0.fits\n",
      "No.    Name      Ver    Type      Cards   Dimensions   Format\n",
      "  0  PRIMARY       1 PrimaryHDU     138   ()      \n",
      "  1  SCI           1 ImageHDU        61   (40, 40)   int16   \n",
      "  2  SCI           2 ImageHDU        61   (40, 40)   int16   \n",
      "  3  SCI           3 ImageHDU        61   (40, 40)   int16   \n",
      "  4  SCI           4 ImageHDU        61   (40, 40)   int16   \n"
     ]
    }
   ],
   "source": [
    "# import i/o subpackage for reading FITS files\n",
    "from astropy.io import fits\n",
    "\n",
    "# Get path for data that came with astropy installation\n",
    "fits_img_fn = fits.util.get_testdata_filepath('test0.fits')\n",
    "\n",
    "# open HDU object for file and see what it contains\n",
    "hdul = fits.open(fits_img_fn) # header data unit (HDU) list\n",
    "hdul.info()"
   ]
  },
  {
   "cell_type": "code",
   "execution_count": 60,
   "id": "477ed333-3c6f-4927-a945-35bd9800f5a0",
   "metadata": {
    "tags": []
   },
   "outputs": [
    {
     "data": {
      "text/plain": [
       "'C:\\\\Users\\\\Sabri\\\\anaconda3\\\\Lib\\\\site-packages\\\\astropy\\\\io\\\\fits\\\\tests\\\\data\\\\test0.fits'"
      ]
     },
     "execution_count": 60,
     "metadata": {},
     "output_type": "execute_result"
    }
   ],
   "source": [
    "fits_img_fn"
   ]
  },
  {
   "cell_type": "code",
   "execution_count": 61,
   "id": "b0b1dcb9-9ac0-41a6-a894-ecce3ab617eb",
   "metadata": {
    "tags": []
   },
   "outputs": [],
   "source": [
    "# what does the data look like? how do you \"get data\" from the file?\n",
    "\n",
    "# fits.getdata\n",
    "\n",
    "# hdul[1].data\n"
   ]
  },
  {
   "cell_type": "markdown",
   "id": "dc57c17e-5a68-4cd4-962c-a03b1d6c8f29",
   "metadata": {},
   "source": [
    "## Planning Observations\n",
    "\n",
    "Planning observations takes into account the targets, dates and times, location of observing, moon cycle, etc."
   ]
  },
  {
   "cell_type": "markdown",
   "id": "3d90c05e-468b-4aea-a414-f53163f8136f",
   "metadata": {
    "tags": []
   },
   "source": [
    "### Example: Looking at Fomalhaut\n",
    "\n",
    "Here's a simple start-- You have to plan an observation of Fomalhaut from Subaru."
   ]
  },
  {
   "cell_type": "markdown",
   "id": "2c744743-e5f1-491e-a7be-7ba1694a244c",
   "metadata": {
    "tags": []
   },
   "source": [
    "#### Step 1:  \n",
    "The first step is to generate the coordinates of the star and the observing site. The packages here are a hint\n"
   ]
  },
  {
   "cell_type": "code",
   "execution_count": 62,
   "id": "a3c858a8",
   "metadata": {},
   "outputs": [],
   "source": [
    "# !pip install astroplan  # if you need installing"
   ]
  },
  {
   "cell_type": "code",
   "execution_count": 63,
   "id": "fd295531-5933-42b8-b752-673e8b4ff283",
   "metadata": {
    "tags": []
   },
   "outputs": [],
   "source": [
    "from astropy.coordinates import SkyCoord, EarthLocation, AltAz\n",
    "from astroplan import Observer\n",
    "\n",
    "# get coordinates of fomalhaut\n",
    "\n",
    "# get observatory info and store its coordinates as an EarthLocation"
   ]
  },
  {
   "cell_type": "markdown",
   "id": "f54cabb9-dc03-4f36-b8af-103f5d025571",
   "metadata": {},
   "source": [
    "#### Step 2:\n",
    "\n",
    "Visualise and plot its visibility on a date of your choice"
   ]
  },
  {
   "cell_type": "code",
   "execution_count": 69,
   "id": "5895d2fb-22c1-4987-a47c-c2b662d6f90c",
   "metadata": {
    "tags": []
   },
   "outputs": [
    {
     "name": "stdout",
     "output_type": "stream",
     "text": [
      "Sky Coords of Fomalhaut: <SkyCoord (ICRS): (ra, dec) in deg\n",
      "    (344.41269272, -29.62223703)> and Geocentric Coords of Subaru: (-5460925.6854608, -2491437.49064199, 2149539.83199706) m\n"
     ]
    }
   ],
   "source": [
    "fomalhaut = SkyCoord.from_name('Fomalhaut')\n",
    "subaru = Observer.at_site('Subaru', timezone ='US/Hawaii')\n",
    "subaru_loc = EarthLocation(lat=subaru.latitude, lon=subaru.longitude)\n",
    "print(f'Sky Coords of Fomalhaut: {fomalhaut} and Geocentric Coords of Subaru: {subaru_loc}')"
   ]
  },
  {
   "cell_type": "code",
   "execution_count": 70,
   "id": "2b5cf9ed-a592-44fb-82c9-08f997e0212d",
   "metadata": {
    "tags": []
   },
   "outputs": [],
   "source": [
    "# determine position for a give date: Let's say Jul 31 2024\n",
    "from astropy.time import Time\n",
    "# coz you'll need this\n",
    "import numpy as np\n",
    "\n",
    "# define midnight \n",
    "midnight = Time('2024-07-31 00:00:00')\n",
    "# Define grid of times to calculate position over:\n",
    "delta_midnight = np.linspace(-12, 12, 1000)*u.hour \n",
    "times = midnight + delta_midnight\n",
    "\n",
    "# Set up AltAz reference frame for these times and location\n",
    "frame= AltAz(obstime=times, location=subaru_loc)\n",
    "\n",
    "# Now we transform the Fomalhaut object to the Altitute/Azimuth coordinate system\n",
    "fomalhaut_altaz = fomalhaut.transform_to(frame)"
   ]
  },
  {
   "cell_type": "code",
   "execution_count": 71,
   "id": "b9854a77-0011-4b43-aaa8-abb441b1a700",
   "metadata": {
    "tags": []
   },
   "outputs": [],
   "source": [
    "# now... can we see this source at night? this would depend on where the sun is\n",
    "from astropy.coordinates import get_sun"
   ]
  },
  {
   "cell_type": "code",
   "execution_count": 72,
   "id": "2db81353-aeb0-4269-b56a-a462c5bb671e",
   "metadata": {
    "tags": []
   },
   "outputs": [
    {
     "ename": "NameError",
     "evalue": "name 'sun_altaz' is not defined",
     "output_type": "error",
     "traceback": [
      "\u001b[1;31m---------------------------------------------------------------------------\u001b[0m",
      "\u001b[1;31mNameError\u001b[0m                                 Traceback (most recent call last)",
      "Cell \u001b[1;32mIn[72], line 21\u001b[0m\n\u001b[0;32m     10\u001b[0m plt\u001b[38;5;241m.\u001b[39mfigure()\n\u001b[0;32m     12\u001b[0m \u001b[38;5;66;03m# Plot the sun altitude\u001b[39;00m\n\u001b[0;32m     13\u001b[0m \n\u001b[0;32m     14\u001b[0m \n\u001b[1;32m   (...)\u001b[0m\n\u001b[0;32m     18\u001b[0m \u001b[38;5;66;03m# Now plot the range when the sun is below the horizon, and at least 18 degrees below \u001b[39;00m\n\u001b[0;32m     19\u001b[0m \u001b[38;5;66;03m# the horizon - this shows the range of twilight (-0 to -18 deg) and night (< -18 deg)\u001b[39;00m\n\u001b[0;32m     20\u001b[0m plt\u001b[38;5;241m.\u001b[39mfill_between(delta_midnight\u001b[38;5;241m.\u001b[39mto(\u001b[38;5;124m'\u001b[39m\u001b[38;5;124mhr\u001b[39m\u001b[38;5;124m'\u001b[39m)\u001b[38;5;241m.\u001b[39mvalue, \u001b[38;5;241m0\u001b[39m, \u001b[38;5;241m90\u001b[39m,\n\u001b[1;32m---> 21\u001b[0m                  sun_altaz\u001b[38;5;241m.\u001b[39malt \u001b[38;5;241m<\u001b[39m \u001b[38;5;241m0\u001b[39m\u001b[38;5;241m*\u001b[39mu\u001b[38;5;241m.\u001b[39mdeg, color\u001b[38;5;241m=\u001b[39m\u001b[38;5;124m'\u001b[39m\u001b[38;5;124m0.7\u001b[39m\u001b[38;5;124m'\u001b[39m, zorder\u001b[38;5;241m=\u001b[39m\u001b[38;5;241m0\u001b[39m)\n\u001b[0;32m     22\u001b[0m plt\u001b[38;5;241m.\u001b[39mfill_between(delta_midnight\u001b[38;5;241m.\u001b[39mto(\u001b[38;5;124m'\u001b[39m\u001b[38;5;124mhr\u001b[39m\u001b[38;5;124m'\u001b[39m)\u001b[38;5;241m.\u001b[39mvalue, \u001b[38;5;241m0\u001b[39m, \u001b[38;5;241m90\u001b[39m,\n\u001b[0;32m     23\u001b[0m                  sun_altaz\u001b[38;5;241m.\u001b[39malt \u001b[38;5;241m<\u001b[39m \u001b[38;5;241m-\u001b[39m\u001b[38;5;241m18\u001b[39m\u001b[38;5;241m*\u001b[39mu\u001b[38;5;241m.\u001b[39mdeg, color\u001b[38;5;241m=\u001b[39m\u001b[38;5;124m'\u001b[39m\u001b[38;5;124m0.4\u001b[39m\u001b[38;5;124m'\u001b[39m, zorder\u001b[38;5;241m=\u001b[39m\u001b[38;5;241m0\u001b[39m)\n\u001b[0;32m     25\u001b[0m \u001b[38;5;66;03m#now for the details\u001b[39;00m\n",
      "\u001b[1;31mNameError\u001b[0m: name 'sun_altaz' is not defined"
     ]
    },
    {
     "data": {
      "text/plain": [
       "<Figure size 800x600 with 0 Axes>"
      ]
     },
     "metadata": {},
     "output_type": "display_data"
    }
   ],
   "source": [
    "# for plotting\n",
    "import matplotlib.pyplot as plt\n",
    "\n",
    "# astropy's visualisation tool\n",
    "from astropy.visualization import astropy_mpl_style\n",
    "\n",
    "\n",
    "plt.style.use(astropy_mpl_style)\n",
    "\n",
    "plt.figure()\n",
    "\n",
    "# Plot the sun altitude\n",
    "\n",
    "\n",
    "# Plot Fomalhaut's alt/az - use a colour map to represent azimuth. Scatter plot is advises\n",
    "\n",
    "\n",
    "# Now plot the range when the sun is below the horizon, and at least 18 degrees below \n",
    "# the horizon - this shows the range of twilight (-0 to -18 deg) and night (< -18 deg)\n",
    "plt.fill_between(delta_midnight.to('hr').value, 0, 90,\n",
    "                 sun_altaz.alt < 0*u.deg, color='0.7', zorder=0)\n",
    "plt.fill_between(delta_midnight.to('hr').value, 0, 90,\n",
    "                 sun_altaz.alt < -18*u.deg, color='0.4', zorder=0)\n",
    "\n",
    "#now for the details\n",
    "plt.colorbar().set_label('Azimuth [deg]')\n",
    "plt.legend(loc='upper left')\n",
    "plt.xlim(-12, 12)\n",
    "plt.xticks(np.arange(-12, 14, 2))\n",
    "plt.ylim(20, 90)\n",
    "plt.xlabel('Hours from UT Midnight')\n",
    "plt.ylabel('Altitude [deg]')\n",
    "plt.show()"
   ]
  },
  {
   "cell_type": "code",
   "execution_count": null,
   "id": "567576d7-2ff0-4663-8ab1-1978d842c87f",
   "metadata": {},
   "outputs": [],
   "source": []
  }
 ],
 "metadata": {
  "kernelspec": {
   "display_name": "Python 3 (ipykernel)",
   "language": "python",
   "name": "python3"
  },
  "language_info": {
   "codemirror_mode": {
    "name": "ipython",
    "version": 3
   },
   "file_extension": ".py",
   "mimetype": "text/x-python",
   "name": "python",
   "nbconvert_exporter": "python",
   "pygments_lexer": "ipython3",
   "version": "3.11.7"
  }
 },
 "nbformat": 4,
 "nbformat_minor": 5
}
